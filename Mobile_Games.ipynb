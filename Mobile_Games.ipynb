{
 "cells": [
  {
   "cell_type": "markdown",
   "metadata": {},
   "source": [
    "# Mobile Games"
   ]
  },
  {
   "cell_type": "markdown",
   "metadata": {},
   "source": [
    "## Условия задач проекта"
   ]
  },
  {
   "cell_type": "markdown",
   "metadata": {},
   "source": [
    "Представьте, что вы работаете в компании, которая разрабатывает мобильные игры. К вам пришел менеджер с рядом задач по исследованию нескольких аспектов мобильного приложения:\n",
    "\n",
    "1) В первую очередь, его интересует показатель retention. Напишите функцию для его подсчета.\n",
    "\n",
    "2) Помимо этого, в компании провели A/B тестирование наборов акционных предложений. На основе имеющихся данных определите, какой набор можно считать лучшим и на основе каких метрик стоит принять правильное решение.\n",
    "\n",
    "3) Предложите метрики для оценки результатов последнего прошедшего тематического события в игре."
   ]
  },
  {
   "cell_type": "markdown",
   "metadata": {},
   "source": [
    "## Импорт библиотек"
   ]
  },
  {
   "cell_type": "code",
   "execution_count": 1,
   "metadata": {},
   "outputs": [],
   "source": [
    "import os\n",
    "\n",
    "import pandas as pd\n",
    "import matplotlib.pyplot as plt\n",
    "import seaborn as sns\n",
    "import scipy\n",
    "\n",
    "from datetime import date,timedelta, datetime"
   ]
  },
  {
   "cell_type": "markdown",
   "metadata": {},
   "source": [
    "## Задание №1"
   ]
  },
  {
   "cell_type": "markdown",
   "metadata": {},
   "source": [
    "### Условия задачи"
   ]
  },
  {
   "cell_type": "markdown",
   "metadata": {},
   "source": [
    "Напишите функцию для подсчета Retention."
   ]
  },
  {
   "cell_type": "markdown",
   "metadata": {},
   "source": [
    "### Разведка данных"
   ]
  },
  {
   "cell_type": "markdown",
   "metadata": {},
   "source": [
    "Перед созданием функции для расчета Retention необходимо разведать данные, чтобы понять как лучше написать функцию."
   ]
  },
  {
   "cell_type": "code",
   "execution_count": 2,
   "metadata": {},
   "outputs": [],
   "source": [
    "# Считываем csv файл с информацией о дате регистрации пользователей и сохраняем в переменной 'problem_reg_df'\n",
    "problem_reg_df = pd.read_csv('~/shared/problem1-reg_data.csv', sep=';')"
   ]
  },
  {
   "cell_type": "code",
   "execution_count": 3,
   "metadata": {},
   "outputs": [
    {
     "name": "stdout",
     "output_type": "stream",
     "text": [
      "<class 'pandas.core.frame.DataFrame'>\n",
      "RangeIndex: 1000000 entries, 0 to 999999\n",
      "Data columns (total 2 columns):\n",
      " #   Column  Non-Null Count    Dtype\n",
      "---  ------  --------------    -----\n",
      " 0   reg_ts  1000000 non-null  int64\n",
      " 1   uid     1000000 non-null  int64\n",
      "dtypes: int64(2)\n",
      "memory usage: 15.3 MB\n"
     ]
    }
   ],
   "source": [
    "# Изучаем датафрейм 'problem_reg_df'\n",
    "#(количество серий и их наименования, тип данных в сериях, наличие пустых значений в строках)\n",
    "problem_reg_df.info()"
   ]
  },
  {
   "cell_type": "code",
   "execution_count": 4,
   "metadata": {},
   "outputs": [
    {
     "name": "stdout",
     "output_type": "stream",
     "text": [
      "Общее количество строк в problem_reg_df: 1000000\n",
      "Уникальное количество id игроков в problem_reg_df: 1000000\n",
      "Уникальное количество дат регистрации в problem_reg_df: 1000000\n"
     ]
    }
   ],
   "source": [
    "# Смотрим общее количество строк в 'problem_reg_df'\n",
    "print(f'Общее количество строк в problem_reg_df: {problem_reg_df.shape[0]}')\n",
    "\n",
    "# Смотрим уникальное количество id игроков в 'problem_reg_df'(не всегда данные бывают адекватными)\n",
    "print(f'Уникальное количество id игроков в problem_reg_df: {problem_reg_df.uid.nunique()}')\n",
    "\n",
    "# Смотрим количество уникальных значений в дате регистрации в 'problem_reg_df'\n",
    "print(f'Уникальное количество дат регистрации в problem_reg_df: {problem_reg_df.reg_ts.nunique()}')"
   ]
  },
  {
   "cell_type": "code",
   "execution_count": 5,
   "metadata": {},
   "outputs": [
    {
     "name": "stdout",
     "output_type": "stream",
     "text": [
      "Количество дубликатов в problem_reg_df: 0\n"
     ]
    }
   ],
   "source": [
    "# Проевряем датафрейм 'problem_reg_df' на наличие дубликатов\n",
    "print(f'Количество дубликатов в problem_reg_df: {problem_reg_df.duplicated().sum()}')"
   ]
  },
  {
   "cell_type": "code",
   "execution_count": 6,
   "metadata": {},
   "outputs": [],
   "source": [
    "# Считываем csv файл с информацие о дате регистрации пользователей и сохраняем в переменной 'problem_auth_df'\n",
    "problem_auth_df = pd.read_csv('~/shared/problem1-auth_data.csv', sep=';')"
   ]
  },
  {
   "cell_type": "code",
   "execution_count": 7,
   "metadata": {},
   "outputs": [
    {
     "name": "stdout",
     "output_type": "stream",
     "text": [
      "<class 'pandas.core.frame.DataFrame'>\n",
      "RangeIndex: 9601013 entries, 0 to 9601012\n",
      "Data columns (total 2 columns):\n",
      " #   Column   Dtype\n",
      "---  ------   -----\n",
      " 0   auth_ts  int64\n",
      " 1   uid      int64\n",
      "dtypes: int64(2)\n",
      "memory usage: 146.5 MB\n"
     ]
    }
   ],
   "source": [
    "# Изучаем датафрейм 'problem_auth_df'\n",
    "#(количество серий и их наименования, тип данных в сериях)\n",
    "problem_auth_df.info()"
   ]
  },
  {
   "cell_type": "code",
   "execution_count": 8,
   "metadata": {},
   "outputs": [
    {
     "data": {
      "text/plain": [
       "auth_ts    0\n",
       "uid        0\n",
       "dtype: int64"
      ]
     },
     "execution_count": 8,
     "metadata": {},
     "output_type": "execute_result"
    }
   ],
   "source": [
    "#Проверяем датафрейм на наличие пустых значений в строках\n",
    "problem_auth_df.isna().sum()"
   ]
  },
  {
   "cell_type": "code",
   "execution_count": 9,
   "metadata": {},
   "outputs": [
    {
     "name": "stdout",
     "output_type": "stream",
     "text": [
      "Общее количество строк в problem_auth_df: 9601013\n",
      "Уникальное количество id игроков в problem_auth_df: 1000000\n",
      "Уникальное количество дат регистрации в problem_auth_df: 9180915\n"
     ]
    }
   ],
   "source": [
    "# Смотрим общее количество строк в 'problem_auth_df'\n",
    "print(f'Общее количество строк в problem_auth_df: {problem_auth_df.shape[0]}')\n",
    "\n",
    "# Смотрим уникальное количество id игроков в 'problem_auth_df'(не всегда данные бывают адекватными)\n",
    "print(f'Уникальное количество id игроков в problem_auth_df: {problem_auth_df.uid.nunique()}')\n",
    "\n",
    "# Смотрим количество уникальных значений в дате авторизации в 'problem_auth_df'\n",
    "print(f'Уникальное количество дат регистрации в problem_auth_df: {problem_auth_df.auth_ts.nunique()}')\n"
   ]
  },
  {
   "cell_type": "code",
   "execution_count": 10,
   "metadata": {},
   "outputs": [
    {
     "name": "stdout",
     "output_type": "stream",
     "text": [
      "Количество дубликатов в problem_auth_df: 0\n"
     ]
    }
   ],
   "source": [
    "# Проевряем датафрейм 'problem_auth_df' на наличие дубликатов\n",
    "print(f'Количество дубликатов в problem_auth_df: {problem_auth_df.duplicated().sum()}')"
   ]
  },
  {
   "cell_type": "code",
   "execution_count": 11,
   "metadata": {},
   "outputs": [
    {
     "name": "stdout",
     "output_type": "stream",
     "text": [
      "Количество id игроков, которые присутствуют лишь в одном датафрейме: 0\n"
     ]
    }
   ],
   "source": [
    "# Проверяем есть ли id игроков, которые встречаются только в одном датафрейме (в теории могут быть ошибки)\n",
    "uid_unique = set(problem_reg_df.uid.values) - set(problem_auth_df.uid.values)\n",
    "print(f'Количество id игроков, которые присутствуют лишь в одном датафрейме: {len(uid_unique)}')\n",
    "\n",
    "# Удаляем ненужную переменную\n",
    "del uid_unique"
   ]
  },
  {
   "cell_type": "code",
   "execution_count": 12,
   "metadata": {},
   "outputs": [
    {
     "name": "stdout",
     "output_type": "stream",
     "text": [
      "Количество строк в problem_df: 9601013\n"
     ]
    }
   ],
   "source": [
    "# Необходимо проверить нет ли случаев, когда у игроков дата регистрации позже, чем авторизация (возможные ошибки)\n",
    "# Для этого обьединим датафреймы в problem_df\n",
    "problem_df = pd.merge(problem_reg_df,\n",
    "                      problem_auth_df,\n",
    "                      on='uid',\n",
    "                      how='inner')\n",
    "\n",
    "# Смотрим количество строк в problem_df, чтобы убедиться в правильности объединения датафреймов\n",
    "print(f'Количество строк в problem_df: {problem_df.shape[0]}')"
   ]
  },
  {
   "cell_type": "code",
   "execution_count": 13,
   "metadata": {},
   "outputs": [
    {
     "data": {
      "text/plain": [
       "True    9601013\n",
       "Name: dif_datetime, dtype: int64"
      ]
     },
     "execution_count": 13,
     "metadata": {},
     "output_type": "execute_result"
    }
   ],
   "source": [
    "# Приводим дату регистрации к формату 'YYYY-MM-DD'\n",
    "problem_df['reg_ts'] = pd.to_datetime(problem_df['reg_ts'], unit='s').dt.date\n",
    "\n",
    "# Приводим дату авторизации к формату 'YYYY-MM-DD'\n",
    "problem_df['auth_ts'] = pd.to_datetime(problem_df['auth_ts'], unit='s').dt.date\n",
    "\n",
    "# Сравниваем даты и записываем в серию 'dif_datetime'\n",
    "problem_df['dif_datetime'] = problem_df['reg_ts'] <= problem_df['auth_ts']\n",
    "\n",
    "# Выводим получившиеся булевые значения. Наличие False будет означать об ошибках\n",
    "problem_df.dif_datetime.value_counts()"
   ]
  },
  {
   "cell_type": "code",
   "execution_count": 14,
   "metadata": {},
   "outputs": [],
   "source": [
    "# Удаляем ненужный датафрейм\n",
    "del problem_df"
   ]
  },
  {
   "cell_type": "markdown",
   "metadata": {},
   "source": [
    "Выводы:\n",
    "1) Каждый датафрейм имеет по 2 серии (id игрока - общая, дата регистрации/дата авторизации - каждая только в одном из датафреймов);\n",
    "2) Количество строк для 'problem_reg_df' и 'problem_auth_df': 1000000 и 9601013 (соответственно);\n",
    "3) Дата регистрации и дата авторизации хранятся в формате Unix-времени;\n",
    "4) Колличество уникальных id игрокв везде 1000000;\n",
    "5) Уникальное количество дат регистрации 1000000 (нормально, так дата содержит часы, минуты и т.д.), уникальное количество дат авторизации (9180915);\n",
    "6) Дублирующихся строк нет ни в одном датафрейме;\n",
    "7) Нет ни одного игрока, который бы присутствовал лишь в одном датафрейме;\n",
    "8) Нет ни одной даты регистрации у игроков, которая бы возникала позже даты авторизации (ошибок/нюансов нет)"
   ]
  },
  {
   "cell_type": "markdown",
   "metadata": {},
   "source": [
    "### Создание функцию для расчета Retention"
   ]
  },
  {
   "cell_type": "markdown",
   "metadata": {},
   "source": [
    "Теперь перейдем к написанию функции по расчету и выводу Retention.\n",
    "\n",
    "Благодаря разведке данных мы понимаем - как именно должна быть написана функция.\n",
    "\n",
    "Нам надо учесть, что данной функцией будут пользоваться периодически мои колеги. Предположительно структура данных и их выгрузок с течением времени не поменяются (не рассматриваю в рамках проекта). Функция должна быть максимально удобной и не требовать дополнительную обработку данных (в рамках разработки конечно лучше все же дробить на несколько функций). Также считаю, что дополнительно стоит сделать проверки внутри самой функции на базовые ошибки."
   ]
  },
  {
   "cell_type": "code",
   "execution_count": 15,
   "metadata": {},
   "outputs": [],
   "source": [
    "def retention_heatmap (reg_df: pd.DataFrame, auth_df: pd.DataFrame, start_date: str, end_date: str):\n",
    "    \n",
    "    '''\n",
    "    Функция для расчета Retention игроков (пользователей) по дням от даты регистрации\n",
    "    \n",
    "    Период расчета до 30 дней без учета 1 дня, когда формировалась когорта (всегда 100%)\n",
    "    \n",
    "    Входные параметры:\n",
    "        1) датафрейм с датой регистрации игроков;\n",
    "        2) датафрейм c датой авторизации игроков;\n",
    "        3) начальная дата формирования периода расчета Retention (формат: 'YYYY-MM-DD');\n",
    "        4) конечная дата формирования периода расчета Retention (формат: 'YYYY-MM-DD').\n",
    "    \n",
    "    Пример использования:\n",
    "    retention_heatmap(reg_df, auth_df,'2018-07-01', '2018-07-31') \n",
    "    \n",
    "    Проверки:\n",
    "    1) Датафрейм с датой регистрации должен стоять первым, вторым идет датафрейм с датой авторизации;\n",
    "    2) Даты должны быть указаны в строковом формате 'YYYY-MM-DD';\n",
    "    3) Начальная дата не должна быть равна конечной дате формирования периода;\n",
    "    4) Начальная дата должна быть меньше конечной даты;\n",
    "    5) Разница между конечной и начальной датами не должет быть больше 30 (с учетом 0 получается 31 день);\n",
    "    6) Начальная и конечная даты не должны выходить за пределы имеющихся дат в данных.\n",
    "    \n",
    "    Возвращает:\n",
    "    heatmap Retention игроков по дням для заданных параметров\n",
    "    '''\n",
    "    \n",
    "    ####################################################################################################\n",
    "    \n",
    "    #Пишем проверки для обычных ошибок\n",
    "    try:\n",
    "        assert 'reg_ts' in reg_df.columns\n",
    "        assert 'auth_ts' in auth_df.columns\n",
    "    except AssertionError:\n",
    "        return('Ошибка: Датафреймы для расчета Retention указаны не в правильном порядке!')\n",
    "    \n",
    "    try:\n",
    "        datetime.strptime(start_date, \"%Y-%m-%d\").date()\n",
    "        datetime.strptime(end_date, \"%Y-%m-%d\").date()\n",
    "    except ValueError:\n",
    "        return(\"Ошибка: Даты введены не в правильном виде. Введите даты в формате 'YYYY-MM-DD'!\")\n",
    "    \n",
    "    try:\n",
    "        assert start_date != end_date\n",
    "    except AssertionError:\n",
    "        return('Ошибка: Начальная и конечная даты для расчета Retention не должны быть равны!')\n",
    "    \n",
    "    try:\n",
    "        assert start_date < end_date\n",
    "    except AssertionError:\n",
    "        return('Ошибка: Даты для расчета Retention указаны не в правильном порядке!')\n",
    "    \n",
    "    try:\n",
    "        assert (pd.to_datetime(end_date) - pd.to_datetime(start_date)).days <= 30\n",
    "    except AssertionError:\n",
    "        return('Ошибка: Данная функция не поддерживает расчет Retention для периода больше месяца!')\n",
    "    \n",
    "    min_date = datetime.fromtimestamp(problem_auth_df.auth_ts.min())\n",
    "    min_date = min_date.strftime('%Y-%m-%d')\n",
    "    \n",
    "    max_date = datetime.fromtimestamp(problem_auth_df.auth_ts.max())\n",
    "    max_date = max_date.strftime('%Y-%m-%d')\n",
    "    \n",
    "    try:\n",
    "        assert min_date <= start_date < max_date\n",
    "        assert min_date < end_date <= max_date\n",
    "    except AssertionError:\n",
    "        return('Ошибка: Даты выходят за пределы имеющихся данных! Укажите другие временные рамки!')\n",
    "    \n",
    "    ####################################################################################################\n",
    "    \n",
    "    #Объединяем датафреймы\n",
    "    merged_df = pd.merge(reg_df,\n",
    "                         auth_df,\n",
    "                         on='uid',\n",
    "                         how='inner')\n",
    "    \n",
    "    # Преобразуем серии с датами к необходимому виду и сохраняем в переменные\n",
    "    merged_df['reg_ts'] = pd.to_datetime(merged_df['reg_ts'], unit='s').dt.date\n",
    "    merged_df['auth_ts'] = pd.to_datetime(merged_df['auth_ts'], unit='s').dt.date\n",
    "    \n",
    "    start_date = pd.to_datetime(start_date)\n",
    "    end_date = pd.to_datetime(end_date)\n",
    "    \n",
    "    #Оставляем только ту часть объединенного датафрейма, которая соответствует заданному периоду\n",
    "    merged_df = merged_df.query('reg_ts >= @start_date and auth_ts <= @end_date')\n",
    "    \n",
    "    ####################################################################################################\n",
    "    \n",
    "    # Формируем датафрейм с размерами когорт\n",
    "    cohort_size = merged_df.groupby('reg_ts', as_index=False)\\\n",
    "                           .agg({'uid': 'nunique'})\\\n",
    "                           .rename(columns={'uid': 'size_cohort'})\n",
    "    \n",
    "    # Для каждой когорты по дате авторизации посчитаем количество игроков\n",
    "    cohort_df = merged_df.groupby(['reg_ts', 'auth_ts'], as_index=False)\\\n",
    "                         .agg({'uid': 'count'})\\\n",
    "                         .rename(columns={'uid': 'uid_count'})\n",
    "    \n",
    "    # Добавляем серию с пройденным колличеством дней с момента регистрации\n",
    "    cohort_df['past_days'] = (cohort_df['auth_ts'] - cohort_df['reg_ts']).dt.days\n",
    "    \n",
    "    # Объединяем основной датафрейм с датафреймом с информацие о размере когорт\n",
    "    cohort_df = cohort_df[['reg_ts',\n",
    "                           'past_days',\n",
    "                           'uid_count']].merge(cohort_size, on='reg_ts', how='left')\n",
    "    \n",
    "    # Считаем сам Retention\n",
    "    cohort_df['retention'] = cohort_df['uid_count'] / cohort_df['size_cohort']\n",
    "    \n",
    "    # Собираем таблицу для визуализации\n",
    "    retention = cohort_df.pivot_table(columns='past_days',\n",
    "                                      index ='reg_ts',\n",
    "                                      values='retention')\n",
    "    \n",
    "    ####################################################################################################\n",
    "    \n",
    "    # Выводим Retention в виде heatmap (предварительно настраиваем визуализацию)\n",
    "    plt.figure(figsize=(26,18))\n",
    "    sns.heatmap(retention.iloc[: , 1:],linewidth=.7, annot=True, fmt='.1%', vmin=0, vmax=0.08, cmap='flare')\n",
    "    plt.title('Retention', fontsize=20)\n",
    "    plt.ylabel('Дата регистрации', fontsize=20)\n",
    "    plt.yticks(rotation=360)\n",
    "    plt.xlabel('Количество дней с момента регистрации', fontsize=20)\n",
    "    plt.show()"
   ]
  },
  {
   "cell_type": "markdown",
   "metadata": {},
   "source": [
    "### Проверка функции для расчета Retention"
   ]
  },
  {
   "cell_type": "code",
   "execution_count": 16,
   "metadata": {},
   "outputs": [
    {
     "data": {
      "image/png": "[encoded data removed]",
      "text/plain": [
       "<Figure size 1872x1296 with 2 Axes>"
      ]
     },
     "metadata": {
      "needs_background": "light"
     },
     "output_type": "display_data"
    }
   ],
   "source": [
    "retention_heatmap(problem_reg_df, problem_auth_df, '2018-07-01', '2018-07-15')"
   ]
  },
  {
   "cell_type": "markdown",
   "metadata": {},
   "source": [
    "## Задание №2"
   ]
  },
  {
   "cell_type": "markdown",
   "metadata": {},
   "source": [
    "### Условие задания"
   ]
  },
  {
   "cell_type": "markdown",
   "metadata": {},
   "source": [
    "Имеются результаты A/B теста, в котором двум группам пользователей предлагались различные наборы акционных предложений. Известно, что ARPU в тестовой группе выше на 5%, чем в контрольной. При этом в контрольной группе 1928 игроков из 202103 оказались платящими, а в тестовой – 1805 из 202667.\n",
    "\n",
    "Какой набор предложений можно считать лучшим? Какие метрики стоит проанализировать для принятия правильного решения и как?"
   ]
  },
  {
   "cell_type": "markdown",
   "metadata": {},
   "source": [
    "### Разведка данных"
   ]
  },
  {
   "cell_type": "markdown",
   "metadata": {},
   "source": [
    "Перед тем, как приступить к заданию необходимо разведать имеющиеся данные по A/B тесту (количество строк и серий, наличие пустых данных и дубликатов и т.д.)."
   ]
  },
  {
   "cell_type": "code",
   "execution_count": 17,
   "metadata": {},
   "outputs": [],
   "source": [
    "# Считываем csv файл с информацие об A/B тесту и сохраняем в переменной 'AB_test_df'\n",
    "AB_test_df = pd.read_csv('Проект_1_Задание_2.csv', sep=';')"
   ]
  },
  {
   "cell_type": "code",
   "execution_count": 18,
   "metadata": {},
   "outputs": [
    {
     "data": {
      "text/html": [
       "<div>\n",
       "<style scoped>\n",
       "    .dataframe tbody tr th:only-of-type {\n",
       "        vertical-align: middle;\n",
       "    }\n",
       "\n",
       "    .dataframe tbody tr th {\n",
       "        vertical-align: top;\n",
       "    }\n",
       "\n",
       "    .dataframe thead th {\n",
       "        text-align: right;\n",
       "    }\n",
       "</style>\n",
       "<table border=\"1\" class=\"dataframe\">\n",
       "  <thead>\n",
       "    <tr style=\"text-align: right;\">\n",
       "      <th></th>\n",
       "      <th>user_id</th>\n",
       "      <th>revenue</th>\n",
       "      <th>testgroup</th>\n",
       "    </tr>\n",
       "  </thead>\n",
       "  <tbody>\n",
       "    <tr>\n",
       "      <th>0</th>\n",
       "      <td>1</td>\n",
       "      <td>0</td>\n",
       "      <td>b</td>\n",
       "    </tr>\n",
       "    <tr>\n",
       "      <th>1</th>\n",
       "      <td>2</td>\n",
       "      <td>0</td>\n",
       "      <td>a</td>\n",
       "    </tr>\n",
       "    <tr>\n",
       "      <th>2</th>\n",
       "      <td>3</td>\n",
       "      <td>0</td>\n",
       "      <td>a</td>\n",
       "    </tr>\n",
       "    <tr>\n",
       "      <th>3</th>\n",
       "      <td>4</td>\n",
       "      <td>0</td>\n",
       "      <td>b</td>\n",
       "    </tr>\n",
       "    <tr>\n",
       "      <th>4</th>\n",
       "      <td>5</td>\n",
       "      <td>0</td>\n",
       "      <td>b</td>\n",
       "    </tr>\n",
       "  </tbody>\n",
       "</table>\n",
       "</div>"
      ],
      "text/plain": [
       "   user_id  revenue testgroup\n",
       "0        1        0         b\n",
       "1        2        0         a\n",
       "2        3        0         a\n",
       "3        4        0         b\n",
       "4        5        0         b"
      ]
     },
     "execution_count": 18,
     "metadata": {},
     "output_type": "execute_result"
    }
   ],
   "source": [
    "#Смотрим шапку датафрейма (надо понять в каком виде записаны данные)\n",
    "AB_test_df.head()"
   ]
  },
  {
   "cell_type": "code",
   "execution_count": 19,
   "metadata": {},
   "outputs": [
    {
     "name": "stdout",
     "output_type": "stream",
     "text": [
      "<class 'pandas.core.frame.DataFrame'>\n",
      "RangeIndex: 404770 entries, 0 to 404769\n",
      "Data columns (total 3 columns):\n",
      " #   Column     Non-Null Count   Dtype \n",
      "---  ------     --------------   ----- \n",
      " 0   user_id    404770 non-null  int64 \n",
      " 1   revenue    404770 non-null  int64 \n",
      " 2   testgroup  404770 non-null  object\n",
      "dtypes: int64(2), object(1)\n",
      "memory usage: 9.3+ MB\n"
     ]
    }
   ],
   "source": [
    "# Смотрим колличетсво строк, типы данных в сериях и количество пустых значений\n",
    "AB_test_df.info()"
   ]
  },
  {
   "cell_type": "code",
   "execution_count": 20,
   "metadata": {},
   "outputs": [
    {
     "name": "stdout",
     "output_type": "stream",
     "text": [
      "Количество дубликатов в данных: 0\n"
     ]
    }
   ],
   "source": [
    "# Проверяем количество дубликатов в полученных данных (иногда выгружают данные неправильно)\n",
    "print(f'Количество дубликатов в данных: {AB_test_df.duplicated().sum()}')"
   ]
  },
  {
   "cell_type": "markdown",
   "metadata": {},
   "source": [
    "Для дальнейшего выполнения задания нам понадобится разбить на отдельные датафреймы: контрольной и тестовой группы.\n",
    "\n",
    "Можно заранее это сделать. Но необходимо определить контрольную и тестовую группу в датафрейме."
   ]
  },
  {
   "cell_type": "code",
   "execution_count": 21,
   "metadata": {},
   "outputs": [
    {
     "data": {
      "text/html": [
       "<div>\n",
       "<style scoped>\n",
       "    .dataframe tbody tr th:only-of-type {\n",
       "        vertical-align: middle;\n",
       "    }\n",
       "\n",
       "    .dataframe tbody tr th {\n",
       "        vertical-align: top;\n",
       "    }\n",
       "\n",
       "    .dataframe thead th {\n",
       "        text-align: right;\n",
       "    }\n",
       "</style>\n",
       "<table border=\"1\" class=\"dataframe\">\n",
       "  <thead>\n",
       "    <tr style=\"text-align: right;\">\n",
       "      <th></th>\n",
       "      <th>testgroup</th>\n",
       "      <th>users</th>\n",
       "    </tr>\n",
       "  </thead>\n",
       "  <tbody>\n",
       "    <tr>\n",
       "      <th>0</th>\n",
       "      <td>a</td>\n",
       "      <td>202103</td>\n",
       "    </tr>\n",
       "    <tr>\n",
       "      <th>1</th>\n",
       "      <td>b</td>\n",
       "      <td>202667</td>\n",
       "    </tr>\n",
       "  </tbody>\n",
       "</table>\n",
       "</div>"
      ],
      "text/plain": [
       "  testgroup   users\n",
       "0         a  202103\n",
       "1         b  202667"
      ]
     },
     "execution_count": 21,
     "metadata": {},
     "output_type": "execute_result"
    }
   ],
   "source": [
    "# Считаем количество пользователей в группах. Там где будет 202103 - контрольная группа, а 202667 - тестовая\n",
    "AB_test_df.groupby('testgroup',\n",
    "                   as_index=False)\\\n",
    "          .agg({'user_id':'nunique'})\\\n",
    "          .rename(columns={'user_id': 'users'})"
   ]
  },
  {
   "cell_type": "markdown",
   "metadata": {},
   "source": [
    "Для удобства я бы заменил 'а' на 'control', а 'b' на 'test'. Так будет приятнее работать с данными."
   ]
  },
  {
   "cell_type": "code",
   "execution_count": 22,
   "metadata": {},
   "outputs": [],
   "source": [
    "# Заменяем значения через replace и сохраняем изменения\n",
    "AB_test_df['testgroup'] = AB_test_df['testgroup'].replace('a', 'control')\n",
    "AB_test_df['testgroup'] = AB_test_df['testgroup'].replace('b', 'test')"
   ]
  },
  {
   "cell_type": "code",
   "execution_count": 23,
   "metadata": {},
   "outputs": [
    {
     "data": {
      "text/plain": [
       "array(['test', 'control'], dtype=object)"
      ]
     },
     "execution_count": 23,
     "metadata": {},
     "output_type": "execute_result"
    }
   ],
   "source": [
    "# На всякий посмотрим прошла ли замена всех значений\n",
    "AB_test_df.testgroup.unique()"
   ]
  },
  {
   "cell_type": "code",
   "execution_count": 24,
   "metadata": {},
   "outputs": [
    {
     "data": {
      "text/plain": [
       "testgroup\n",
       "control    1928\n",
       "test       1805\n",
       "Name: user_id, dtype: int64"
      ]
     },
     "execution_count": 24,
     "metadata": {},
     "output_type": "execute_result"
    }
   ],
   "source": [
    "# Также можно проверить соответствует ли условию задания количество платящих игроков в группах\n",
    "# В контрольной их должно быть - 1928, в тестовой - 1805\n",
    "AB_test_df.loc[AB_test_df['revenue'] > 0]\\\n",
    "          .groupby('testgroup')\\\n",
    "          .user_id.count()"
   ]
  },
  {
   "cell_type": "markdown",
   "metadata": {},
   "source": [
    "Сразу разделем на два отдельных датафрейма: контрольной группы и тестовой группы."
   ]
  },
  {
   "cell_type": "code",
   "execution_count": 25,
   "metadata": {},
   "outputs": [],
   "source": [
    "# Разделяем по значениям в серии 'testgroup' и сохраняем в новые переменные\n",
    "control_df = AB_test_df.loc[AB_test_df['testgroup'] == 'control']\n",
    "test_df = AB_test_df.loc[AB_test_df['testgroup'] == 'test']"
   ]
  },
  {
   "cell_type": "code",
   "execution_count": 26,
   "metadata": {},
   "outputs": [
    {
     "name": "stdout",
     "output_type": "stream",
     "text": [
      "(202103, 3)\n",
      "(202667, 3)\n"
     ]
    }
   ],
   "source": [
    "# Проверяем по колличеству строк, что разделили правильно (на всякий случай)\n",
    "print(control_df.shape)\n",
    "print(test_df.shape)"
   ]
  },
  {
   "cell_type": "markdown",
   "metadata": {},
   "source": [
    "### Анализ акционных наборов"
   ]
  },
  {
   "cell_type": "markdown",
   "metadata": {},
   "source": [
    "Нам нужно понять какой лучше акционный набор: в контрольной или тестовой группе.\n",
    "Для этого необходимо правильно подобрать метрики, по которым можно сравнить акционные наборы.\n",
    "\n",
    "В нашем случае подходят следующие:\n",
    "\n",
    "1) Конверсия (conversion rate, CR) — отношение числа пользователей, которые выполнили какое-либо целевое действие к общему числу пользователей (в нашем случае совершили покупку);\n",
    "    \n",
    "2) ARPU (Average revenue per user) - cредний доход с привлечённого пользователя;\n",
    "    \n",
    "3) ARPPU (Average revenue per paying user) - cредний доход на платящего пользователя, то есть клиента (cостоит из того, насколько часто пользователь покупает, и насколько большой средний чек покупки).\n",
    "    \n",
    "Все 3 показателя можно считать основными, так как взаимосвязаны. Все они отражает предпочтительность того или иного набора."
   ]
  },
  {
   "cell_type": "markdown",
   "metadata": {},
   "source": [
    "Сначала посмотрим распределение выручки в каждой из групп."
   ]
  },
  {
   "cell_type": "code",
   "execution_count": 27,
   "metadata": {},
   "outputs": [
    {
     "data": {
      "image/png": "[encoded data removed]",
      "text/plain": [
       "<Figure size 864x504 with 1 Axes>"
      ]
     },
     "metadata": {
      "needs_background": "light"
     },
     "output_type": "display_data"
    }
   ],
   "source": [
    "plt.figure(figsize=(12, 7))\n",
    "df_pay = sns.histplot(data=AB_test_df.loc[AB_test_df['revenue'] > 0], x='revenue', hue='testgroup', kde=False)\n",
    "df_pay.set(xlabel='Сумма выручки',\n",
    "           ylabel='Количество платящих игроков',\n",
    "           title='Распределение выручки')\n",
    "plt.show()"
   ]
  },
  {
   "cell_type": "markdown",
   "metadata": {},
   "source": [
    "Очень настораживающее распределение. Видим что по выручке контрольная и тестовая группы не пересекаются.\n",
    "\n",
    "В контрольной группе видны огромный разброс в данных. Большая часть пользователей смещенна к 0 сумме выручки, однако небольшая часть пользователей ушла за 35000. Возможно это выбросы. Однако сказать уверенно не можем.\n",
    "\n",
    "В тестовой группе наблюдаем равномерность в распределении выручки.\n",
    "\n",
    "Стоит посмотреть какое количество пользователей в контрольной группе составляют предполагаемый выброс, а также долю выручки от этих пользователей от общей. Это поможет нам сделать выводы о предполагаемых выбросах."
   ]
  },
  {
   "cell_type": "code",
   "execution_count": 28,
   "metadata": {},
   "outputs": [],
   "source": [
    "# Используя ранее подготовленные датафреймы, сформируем два других по платящим пользователям в разных группах\n",
    "control_pay_df = control_df.loc[control_df['revenue'] > 0]\n",
    "test_pay_df = test_df.loc[test_df['revenue'] > 0]"
   ]
  },
  {
   "cell_type": "code",
   "execution_count": 29,
   "metadata": {},
   "outputs": [
    {
     "name": "stdout",
     "output_type": "stream",
     "text": [
      "Количество игроков, у которых revenue > 30000: 123\n"
     ]
    }
   ],
   "source": [
    "# Оставляем данные только по пользователям, у которых 'revenue' > 30000 в контрольной группе\n",
    "revenue_more_30000 = control_pay_df.loc[control_pay_df['revenue'] > 30000]\n",
    "\n",
    "# Cчитаем колличество этих пользователей\n",
    "revenue_more_30000_size = revenue_more_30000['revenue'].size\n",
    "\n",
    "# Выводим результат\n",
    "print(f'Количество игроков, у которых revenue > 30000: {revenue_more_30000_size}')"
   ]
  },
  {
   "cell_type": "code",
   "execution_count": 30,
   "metadata": {},
   "outputs": [
    {
     "name": "stdout",
     "output_type": "stream",
     "text": [
      "Процент от общей выручки, который дают 123 игрока: 89%\n"
     ]
    }
   ],
   "source": [
    "# Считаем долю выручки этих 123 пользователей от общей выручки\n",
    "revenue_more_30000_percent = revenue_more_30000['revenue'].sum() / control_pay_df['revenue'].sum()\n",
    "revenue_more_30000_percent = round((revenue_more_30000_percent * 100))\n",
    "\n",
    "# Выводим результат\n",
    "print(f'Процент от общей выручки, который дают 123 игрока: {revenue_more_30000_percent}%')\n",
    "\n",
    "# Удаляем ненужные переменные\n",
    "del revenue_more_30000, revenue_more_30000_size, revenue_more_30000_percent"
   ]
  },
  {
   "cell_type": "markdown",
   "metadata": {},
   "source": [
    "После анализа предполагаемых выбросов в контрольной группе можно сказать следующее:\n",
    "    \n",
    "1) Выручка данной подгруппы составляет 89% от общей, что очень много;\n",
    "    \n",
    "2) Убирать эти данные для дальнейшего анализа - нельзя;\n",
    "    \n",
    "3) Можно предположить, что это не выбросы, а специфика показа акционных наборов (возможно просто изначально они по задумке показывались группам игроков с разным показателем выручки)."
   ]
  },
  {
   "cell_type": "markdown",
   "metadata": {},
   "source": [
    "Также рассмотрим минимальные, максимальные, средние и медианные значения по выручке в обеих группах.\n",
    "Для удобства создадим 2 новых датафрейма."
   ]
  },
  {
   "cell_type": "code",
   "execution_count": 31,
   "metadata": {},
   "outputs": [
    {
     "data": {
      "text/plain": [
       "count     1928.000000\n",
       "mean      2663.998444\n",
       "std       9049.039763\n",
       "min        200.000000\n",
       "25%        257.000000\n",
       "50%        311.000000\n",
       "75%        361.000000\n",
       "max      37433.000000\n",
       "Name: revenue, dtype: float64"
      ]
     },
     "execution_count": 31,
     "metadata": {},
     "output_type": "execute_result"
    }
   ],
   "source": [
    "# Смотрим показатели по платящим в контрольной группе\n",
    "control_pay_df.revenue.describe()"
   ]
  },
  {
   "cell_type": "code",
   "execution_count": 32,
   "metadata": {},
   "outputs": [
    {
     "data": {
      "text/plain": [
       "count    1805.000000\n",
       "mean     3003.658172\n",
       "std       572.619709\n",
       "min      2000.000000\n",
       "25%      2513.000000\n",
       "50%      3022.000000\n",
       "75%      3478.000000\n",
       "max      4000.000000\n",
       "Name: revenue, dtype: float64"
      ]
     },
     "execution_count": 32,
     "metadata": {},
     "output_type": "execute_result"
    }
   ],
   "source": [
    "# Смотрим показатели по платящим в тестовой группе\n",
    "test_pay_df.revenue.describe()"
   ]
  },
  {
   "cell_type": "markdown",
   "metadata": {},
   "source": [
    "Детализированное рассмотрение показателей по выручке в обеих группах еще больше подтверждает сделанные ранее наблюдения. Медиана по выручке в тестовой группе почти в 10 раз больше чем в контрольной. Разница между минимальным и максимальным значениям очень сильно отличается: в контрольной максимальное значение больше в 187 раз, в тестовой больше в 2 раза.\n",
    "\n",
    "Уже на данном этапе напрашивается повторный A/B тест, но с учетом корректного сплитования (показа акционных наборов).\n",
    "\n",
    "Однако необходимо завершить анализ и только потом делать итоговые выводы."
   ]
  },
  {
   "cell_type": "markdown",
   "metadata": {},
   "source": [
    "#### Расчет показателей (CR, ARPU, ARPPU)"
   ]
  },
  {
   "cell_type": "markdown",
   "metadata": {},
   "source": [
    "Расчитаем CR"
   ]
  },
  {
   "cell_type": "code",
   "execution_count": 33,
   "metadata": {},
   "outputs": [
    {
     "name": "stdout",
     "output_type": "stream",
     "text": [
      "CR в контрольной группе: 0.95%\n",
      "CR в тестовой группе: 0.89%\n"
     ]
    }
   ],
   "source": [
    "# Считаем CR для каждой группы\n",
    "control_CR = round((control_pay_df['user_id'].nunique() * 100) / control_df['user_id'].nunique(), 2)\n",
    "test_CR = round((test_pay_df['user_id'].nunique() * 100) / test_df['user_id'].nunique(), 2)\n",
    "\n",
    "# Выводим показатели\n",
    "print(f'CR в контрольной группе: {control_CR}%')\n",
    "print(f'CR в тестовой группе: {test_CR}%')"
   ]
  },
  {
   "cell_type": "markdown",
   "metadata": {},
   "source": [
    "Расчитаем ARPPU"
   ]
  },
  {
   "cell_type": "code",
   "execution_count": 34,
   "metadata": {},
   "outputs": [
    {
     "name": "stdout",
     "output_type": "stream",
     "text": [
      "ARPPU в контрольной группе: 2664.0\n",
      "ARPPU в тестовой группе: 3003.66\n"
     ]
    }
   ],
   "source": [
    "# Считаем ARPPU для каждой группы\n",
    "control_ARPPU = round(control_pay_df.revenue.sum() / control_pay_df.user_id.nunique(), 2)\n",
    "test_ARPPU = round(test_pay_df.revenue.sum() / test_pay_df.user_id.nunique(), 2)\n",
    "\n",
    "# Выводим показатели\n",
    "print(f'ARPPU в контрольной группе: {control_ARPPU}')\n",
    "print(f'ARPPU в тестовой группе: {test_ARPPU}')"
   ]
  },
  {
   "cell_type": "markdown",
   "metadata": {},
   "source": [
    "Расчитаем ARPU"
   ]
  },
  {
   "cell_type": "code",
   "execution_count": 35,
   "metadata": {},
   "outputs": [
    {
     "name": "stdout",
     "output_type": "stream",
     "text": [
      "ARPU в контрольной группе: 25.41\n",
      "ARPU в тестовой группе: 26.75\n"
     ]
    }
   ],
   "source": [
    "# Считаем ARPU для каждой группы\n",
    "control_ARPU = round(control_df.revenue.sum() / control_df.user_id.nunique(), 2)\n",
    "test_ARPU = round(test_df.revenue.sum() / test_df.user_id.nunique(), 2)\n",
    "\n",
    "# Выводим показатели\n",
    "print(f'ARPU в контрольной группе: {control_ARPU}')\n",
    "print(f'ARPU в тестовой группе: {test_ARPU}')"
   ]
  },
  {
   "cell_type": "markdown",
   "metadata": {},
   "source": [
    "После расчета показателей мы видим, что CR больше в контрольной группе, но ARPU и ARPPU больше в тестовой. Делать выводы все еще рано. Нужно понять статистическую значимость данных показателей. "
   ]
  },
  {
   "cell_type": "markdown",
   "metadata": {},
   "source": [
    "#### Проведение статистических тестов (для CR, ARPU, ARPPU)"
   ]
  },
  {
   "cell_type": "markdown",
   "metadata": {},
   "source": [
    "Начнем с CR.\n",
    "\n",
    "Данный показатель можно проверить через Хи-квадрат. Так как в расчете СR мы смотрим соотношенией покупающих игроков (пользователей) к общему числу, то тогда мы имеем дело с категориальными данными. Собственно на этом и строится статистический тест (проверяет гипотезы о распределении категориальных данных)."
   ]
  },
  {
   "cell_type": "code",
   "execution_count": 36,
   "metadata": {},
   "outputs": [
    {
     "data": {
      "text/html": [
       "<div>\n",
       "<style scoped>\n",
       "    .dataframe tbody tr th:only-of-type {\n",
       "        vertical-align: middle;\n",
       "    }\n",
       "\n",
       "    .dataframe tbody tr th {\n",
       "        vertical-align: top;\n",
       "    }\n",
       "\n",
       "    .dataframe thead th {\n",
       "        text-align: right;\n",
       "    }\n",
       "</style>\n",
       "<table border=\"1\" class=\"dataframe\">\n",
       "  <thead>\n",
       "    <tr style=\"text-align: right;\">\n",
       "      <th>paygroup</th>\n",
       "      <th>0</th>\n",
       "      <th>1</th>\n",
       "    </tr>\n",
       "    <tr>\n",
       "      <th>testgroup</th>\n",
       "      <th></th>\n",
       "      <th></th>\n",
       "    </tr>\n",
       "  </thead>\n",
       "  <tbody>\n",
       "    <tr>\n",
       "      <th>control</th>\n",
       "      <td>200175</td>\n",
       "      <td>1928</td>\n",
       "    </tr>\n",
       "    <tr>\n",
       "      <th>test</th>\n",
       "      <td>200862</td>\n",
       "      <td>1805</td>\n",
       "    </tr>\n",
       "  </tbody>\n",
       "</table>\n",
       "</div>"
      ],
      "text/plain": [
       "paygroup        0     1\n",
       "testgroup              \n",
       "control    200175  1928\n",
       "test       200862  1805"
      ]
     },
     "execution_count": 36,
     "metadata": {},
     "output_type": "execute_result"
    }
   ],
   "source": [
    "# Добавим новую серию (признак) в AB_test_df для разделения пользователей на покупающих и непокупающих\n",
    "AB_test_df['paygroup'] = AB_test_df['revenue'].apply(lambda x: '1' if x > 0 else '0')\n",
    "\n",
    "# Теперь создадим таблицу сопряженности\n",
    "CR_X2 = AB_test_df.groupby(['testgroup', 'paygroup'], as_index=False)\\\n",
    "                  .agg({'user_id':'nunique'})\\\n",
    "                  .pivot(index = 'testgroup', columns = 'paygroup', values = 'user_id')\n",
    "\n",
    "# Выводим и проверяем таблицу сопряженности\n",
    "CR_X2"
   ]
  },
  {
   "cell_type": "markdown",
   "metadata": {},
   "source": [
    "Формируем H0 и H1:\n",
    "\n",
    "1) H0: по показателю CR между контрольной и тестовой группами нет различий;\n",
    "     \n",
    "2) H1: по показателю CR между контрольной и тестовой группами есть различия."
   ]
  },
  {
   "cell_type": "code",
   "execution_count": 37,
   "metadata": {},
   "outputs": [
    {
     "name": "stdout",
     "output_type": "stream",
     "text": [
      "P-value 0.03647561892312613 < 0.05 - отклоняем HO.\n"
     ]
    }
   ],
   "source": [
    "# Проводим сам тест и сохраняем p-value в переменную CR_p_value\n",
    "CR_p_value = scipy.stats.chi2_contingency(CR_X2)[1]\n",
    "\n",
    "# Выводим с помощью цикла результаты по итогам теста\n",
    "if CR_p_value < 0.05:\n",
    "    print(f'P-value {CR_p_value} < 0.05 - отклоняем HO.')\n",
    "else:\n",
    "    print(f'P-value {CR_p_value} > 0.05 - не отклоняем HO.')"
   ]
  },
  {
   "cell_type": "markdown",
   "metadata": {},
   "source": [
    "Тестом мы подведили, что различия по показателю CR значимы."
   ]
  },
  {
   "cell_type": "markdown",
   "metadata": {},
   "source": [
    "Теперь перейдем к показателям ARPU и ARPPU.\n",
    "\n",
    "В основе двух этих показателей лежит средние значения, поэтому стоит рассматреть t-test для выявления статистической значимости. Одако, у t-test есть ряд требований:\n",
    "     \n",
    "1) Нормальность распределения выборок (можно игнорировать, если число наблюдений > 30);\n",
    "     \n",
    "2) Должна соблюдаться гомоскедантичность для обеих групп (равенство дисперсий).\n",
    "     \n",
    "Первое требование у нас выполняется за счет огромного количества наблюдей, поэтому проверка на нормальность распределения через тест Шапиро-Уилка не имеет смысла.\n",
    "\n",
    "Второе требование нужно будет проверять для каждого показателя отдельно, через тест Левена. Однака, если будет выявлено неравенство дисперсий - это не будет служить отказом от t-test'а. Нам просто придется использовать t-test с критерием Уэлча (как раз таки этот критерий учитывает неравенство дисперсий)."
   ]
  },
  {
   "cell_type": "markdown",
   "metadata": {},
   "source": [
    "Начнем с ARPU."
   ]
  },
  {
   "cell_type": "code",
   "execution_count": 38,
   "metadata": {},
   "outputs": [
    {
     "name": "stdout",
     "output_type": "stream",
     "text": [
      "P-value 0.5324948591043842 > 0.05 - дисперсии равны\n"
     ]
    }
   ],
   "source": [
    "# Проверяем на равенство дисперсий через тест Левена и сохраняем в переменную ARPU_Leven_p_value\n",
    "ARPU_Leven_p_value = scipy.stats.levene(control_df.revenue, test_df.revenue)[1]\n",
    "\n",
    "# Выводим с помощью цикла результаты по итогам теста\n",
    "if ARPU_Leven_p_value < 0.05:\n",
    "    print(f'P-value {ARPU_Leven_p_value} < 0.05 - дисперсии не равны')\n",
    "else:\n",
    "    print(f'P-value {ARPU_Leven_p_value} > 0.05 - дисперсии равны')"
   ]
  },
  {
   "cell_type": "markdown",
   "metadata": {},
   "source": [
    "Так как дисперсии равны, то используем t-test без критерия Уэлча.\n",
    "\n",
    "Формируем H0 и H1:\n",
    "\n",
    "1) H0: по показателю ARPU между контрольной и тестовой группами нет различий;\n",
    "     \n",
    "2) H1: по показателю ARPU между контрольной и тестовой группами есть различия."
   ]
  },
  {
   "cell_type": "code",
   "execution_count": 39,
   "metadata": {},
   "outputs": [
    {
     "name": "stdout",
     "output_type": "stream",
     "text": [
      "P-value 0.532494858971837 > 0.05 - не отклоняем HO.\n"
     ]
    }
   ],
   "source": [
    "# Проводим сам тест и сохраняем p-value в переменную ARPU_p_value\n",
    "ARPU_p_value = scipy.stats.ttest_ind(control_df.revenue, test_df.revenue)[1]\n",
    "\n",
    "# Выводим с помощью цикла результаты по итогам теста\n",
    "if ARPU_p_value < 0.05:\n",
    "    print(f'P-value {ARPU_p_value} < 0.05 - отклоняем HO.')\n",
    "else:\n",
    "    print(f'P-value {ARPU_p_value} > 0.05 - не отклоняем HO.')"
   ]
  },
  {
   "cell_type": "markdown",
   "metadata": {},
   "source": [
    "Тест выявил отсутствие статистически значимых различий между группами по показателю ARPU."
   ]
  },
  {
   "cell_type": "markdown",
   "metadata": {},
   "source": [
    "Перейдем к последнему показателю - ARPPU."
   ]
  },
  {
   "cell_type": "code",
   "execution_count": 40,
   "metadata": {},
   "outputs": [
    {
     "name": "stdout",
     "output_type": "stream",
     "text": [
      "P-value 3.779689868667878e-19 < 0.05 - дисперсии не равны\n"
     ]
    }
   ],
   "source": [
    "# Проверяем на равенство дисперсий через тест Левена и сохраняем в переменную ARPPU_Leven_p_value\n",
    "ARPPU_Leven_p_value = scipy.stats.levene(control_pay_df.revenue, test_pay_df.revenue)[1]\n",
    "\n",
    "# Выводим с помощью цикла результаты по итогам теста\n",
    "if ARPPU_Leven_p_value < 0.05:\n",
    "    print(f'P-value {ARPPU_Leven_p_value} < 0.05 - дисперсии не равны')\n",
    "else:\n",
    "    print(f'P-value {ARPPU_Leven_p_value} > 0.05 - дисперсии равны')"
   ]
  },
  {
   "cell_type": "markdown",
   "metadata": {},
   "source": [
    "В этом случае дисперсии неравны. Использовать будем t-test с критерием Уэлча.\n",
    "\n",
    "Формируем H0 и H1:\n",
    "\n",
    "1) H0: по показателю ARPPU между контрольной и тестовой группами нет различий;\n",
    "     \n",
    "2) H1: по показателю ARPPU между контрольной и тестовой группами есть различия."
   ]
  },
  {
   "cell_type": "code",
   "execution_count": 41,
   "metadata": {},
   "outputs": [
    {
     "name": "stdout",
     "output_type": "stream",
     "text": [
      "P-value 0.10020780398916015 > 0.05 - не отклоняем HO.\n"
     ]
    }
   ],
   "source": [
    "# Проводим сам тест и сохраняем p-value в переменную ARPPU_p_value\n",
    "ARPPU_p_value = scipy.stats.ttest_ind(control_pay_df.revenue, test_pay_df.revenue, equal_var=False)[1]\n",
    "\n",
    "# Выводим с помощью цикла результаты по итогам теста\n",
    "if ARPPU_p_value < 0.05:\n",
    "    print(f'P-value {ARPPU_p_value} < 0.05 - отклоняем HO.')\n",
    "else:\n",
    "    print(f'P-value {ARPPU_p_value} > 0.05 - не отклоняем HO.')"
   ]
  },
  {
   "cell_type": "markdown",
   "metadata": {},
   "source": [
    "Тест выявил отсутствие статистически значимых различий между группами по показателю ARPPU."
   ]
  },
  {
   "cell_type": "markdown",
   "metadata": {},
   "source": [
    "### Выводы по акционным наборам и проведению эксперимента"
   ]
  },
  {
   "cell_type": "markdown",
   "metadata": {},
   "source": [
    "По итогу всех тестов только показатель CR статистически значим, что склоняет нас сказать, что в контрольной группе акционный набор лучше.\n",
    "\n",
    "Однако, правильнее было бы провести повторный A/B тест! Притом огромное внимание стоило бы уделить сплитованию пользоватлей на группы. Сам факт того, что доходность контрольной и тестовой групп не пересекаеся указывает нам на неправильное проведение эксперимента. Другой дополнительной информации по проведению эксперимента у нас тоже нет.\n",
    "\n",
    "Возможно, это специфика предложения акционных наборов. Есть вероятность того, что контрольной группе показывали разные акционные наборы, но с учетом покупательской способности игроков (исторические данные). А в тестовой показывали акционные наборы в пределах определенного диапозона. Но это все догадки и не имеют оснований под собой."
   ]
  },
  {
   "cell_type": "markdown",
   "metadata": {},
   "source": [
    "## Задание №3"
   ]
  },
  {
   "cell_type": "markdown",
   "metadata": {},
   "source": [
    "## Условия задач проекта"
   ]
  },
  {
   "cell_type": "markdown",
   "metadata": {},
   "source": [
    "В игре Plants & Gardens каждый месяц проводятся тематические события, ограниченные по времени. В них игроки могут получить уникальные предметы для сада и персонажей, дополнительные монеты или бонусы. Для получения награды требуется пройти ряд уровней за определенное время. С помощью каких метрик можно оценить результаты последнего прошедшего события?\n",
    "\n",
    "Предположим, в другом событии мы усложнили механику событий так, что при каждой неудачной попытке выполнения уровня игрок будет откатываться на несколько уровней назад. Изменится ли набор метрик оценки результата? Если да, то как?"
   ]
  },
  {
   "cell_type": "markdown",
   "metadata": {},
   "source": [
    "### Метрики для оценки события"
   ]
  },
  {
   "cell_type": "markdown",
   "metadata": {},
   "source": [
    "Сначала подумаем, от чего зависит успешность проводимого ивента для компании?\n",
    "\n",
    "Тут можно выделить 2 пункта:\n",
    "\n",
    "1) Заинтересованность игроков;\n",
    "    \n",
    "2) Монетизация продукта (игры).\n",
    "    \n",
    "Следовательно, нам нужно подобрать такие метрики, которые бы отражали два этих пункта."
   ]
  },
  {
   "cell_type": "markdown",
   "metadata": {},
   "source": [
    "Метрики отслеживающие заинтересованность:\n",
    "\n",
    "1) Доля участвующих игрокв от общего числа (помогает отследить как сильно событие заинтересовало аудиторию);\n",
    "    \n",
    "2) Дневная аудитория (DAU) — количество уникальных игроков, участвовавших в ивенте в рамках дня;\n",
    "    \n",
    "3) Недельная аудитория (WAU) - количество уникальных игроков, участвовавших в ивенте в рамках недели;\n",
    "    \n",
    "4) Удержание (Retention) - процент игроков, вернувшихся в игру после начала ивента;\n",
    "    \n",
    "5) Доля завершивших ивент игроков от числа участников (одновременно отслеживает насколько привлек ивент игроков и отражает сложность ивента);\n",
    "    \n",
    "\n",
    "Метрики отслеживающие монетизацию:\n",
    "\n",
    "1) Конверсия в покупку (CR) - процент игроков, которые сделали покупку связанную с ивентом (артефакт, расходуемые предметы и т.д. в рамках ивента);\n",
    "    \n",
    "2) Средний доход на игрока (ARPU);\n",
    "    \n",
    "3) Средний доход на платящего игрока (ARPPU)."
   ]
  },
  {
   "cell_type": "markdown",
   "metadata": {},
   "source": [
    "### Метрики для оценки усложненного события"
   ]
  },
  {
   "cell_type": "markdown",
   "metadata": {},
   "source": [
    "В другом ивенте у нас меняются условия - усложняются механики игры (откат уровней из-за неудачной попытки).\n",
    "\n",
    "На что влияет сложность:\n",
    "\n",
    "1) На прогресс игроков (уже не все смогут пройти полностью ивент за месяц);\n",
    "    \n",
    "2) На удержание игроков (некоторые игроки могут вскорости после начала ивента покинуть его, а позже и саму игру);\n",
    "    \n",
    "3) На оценку продукта (все же мобильные игры в основной массе нацелены на более широкую и казуальную аудиторию).\n",
    "    \n",
    "Указанные выше пункты являются скорее зонами риска. С одной стороны - продукт может стать интереснее, с другой - при переусердствовании может привести к снижению заинтересованости игрой и снижению монетизации."
   ]
  },
  {
   "cell_type": "markdown",
   "metadata": {},
   "source": [
    "Исходя из этого нужно будет добавить еще метрики, связанные с этими зонами риска:\n",
    "    \n",
    "1) Доля откатов от общего числа попыток (поможет понять насколько переусложнили ивент);\n",
    "    \n",
    "2) Колличество неуспешных попыток разбитых по уровням (так мы можем отследить и откоректировать сложность конкретного этапа игры);\n",
    "    \n",
    "3) Отток (Churn Rate) - процент ингроков покинувших игру после начала ивента;\n",
    "    \n",
    "4) Оценка/отзыв игроков (поможет более детально отследить как проблемы игры, так и успешные решения разработчиков)."
   ]
  }
 ],
 "metadata": {
  "kernelspec": {
   "display_name": "Python 3",
   "language": "python",
   "name": "python3"
  },
  "language_info": {
   "codemirror_mode": {
    "name": "ipython",
    "version": 3
   },
   "file_extension": ".py",
   "mimetype": "text/x-python",
   "name": "python",
   "nbconvert_exporter": "python",
   "pygments_lexer": "ipython3",
   "version": "3.7.3"
  }
 },
 "nbformat": 4,
 "nbformat_minor": 4
}
